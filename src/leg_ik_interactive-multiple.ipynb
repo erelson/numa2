{
 "cells": [
  {
   "cell_type": "code",
   "execution_count": 1,
   "metadata": {},
   "outputs": [],
   "source": [
    "from matplotlib import pyplot as plt"
   ]
  },
  {
   "cell_type": "code",
   "execution_count": 11,
   "metadata": {},
   "outputs": [],
   "source": [
    "from numpy import array\n",
    "from numpy.linalg import norm\n",
    "from math import pi, cos, sin, atan2, copysign\n",
    "import numpy as np\n",
    "from time import sleep\n",
    "\n",
    "#from IK import L0, L12, L23, L34, L45, bodyH\n",
    "from design_helpers import gen_sides\n",
    "from poses import LegGeom, LegDef\n",
    "from IK import ALL_FEET_DOWN_TIME_FRAC, TRANSITION_FRAC, FH_FRAC, FH, Gaits\n",
    "# L0 is the dynamic length of the leg? from pivot to ground contact?\n",
    "from intersections import intersectLines\n",
    "\n",
    "# Numa V1\n",
    "#L0=110; L12=58; L23=63; L34=67; L45=57; bodyH=150\n",
    "\n",
    "legLen = 1.05*L0\n",
    "\n",
    "def gen_numa1_legs():\n",
    "# 4\\ __^__ /3\n",
    "#   |     | \n",
    "#   |numa2| \n",
    "#   |_____| \n",
    "# 1/       \\2\n",
    "    stance = 0\n",
    "    offsets_dict = {\n",
    "            \"aoffset1\": 45.0,\n",
    "            \"aoffset2\": -31.54,\n",
    "            \"aoffset3\": -31.54,\n",
    "            \"a1stance\": stance,\n",
    "            \"a1stance_rear\": stance,\n",
    "            \"L0\": 110, # mm - pretty close to actual...\n",
    "            \"L12\": 58,\n",
    "            \"L23\": 63,\n",
    "            \"L34\": 5,\n",
    "            \"L45\": 5,  # This is fake right?\n",
    "            }\n",
    "    leg_model = LegGeom(offsets_dict)\n",
    "\n",
    "    # leg_geom, s1_sign, s2_sign, s3_sign, s4_sign=None, front_leg=True):\n",
    "    leg1 = LegDef(leg_model, offsets_dict,  1,  1, -1)\n",
    "    leg2 = LegDef(leg_model, offsets_dict, -1, -1,  1)\n",
    "    leg3 = LegDef(leg_model, offsets_dict,  1,  1, -1, front_leg=True)\n",
    "    leg4 = LegDef(leg_model, offsets_dict, -1, -1,  1, front_leg=True)\n",
    "\n",
    "    return leg_model, leg1, leg2, leg3, leg4"
   ]
  },
  {
   "cell_type": "code",
   "execution_count": 3,
   "metadata": {},
   "outputs": [],
   "source": [
    "# sides are the leg edge we worry about colliding.\n",
    "# These are two points as vectors from the base of a leg segment\n",
    "# Numa V2\n",
    "side23 = [[24.77, -35.15],[24.77+17.78, -6.17]]\n",
    "side23 = [[0, -5], [50, -5]]\n",
    "side34 = [[24.95, -9.01],[24.95+35.81, -16.09]]\n",
    "side34 = [[0, -5], [40, -5]]\n",
    "   "
   ]
  },
  {
   "cell_type": "markdown",
   "metadata": {},
   "source": [
    "Now what am I doing?"
   ]
  },
  {
   "cell_type": "code",
   "execution_count": 4,
   "metadata": {
    "scrolled": true
   },
   "outputs": [],
   "source": [
    "def snapshot(gait, ms, loopLength=10000, ang_dir=0.0):\n",
    "    \"\"\"Get leg position at a single time within the loop length\"\"\"\n",
    "    \n",
    "    travRate = 25\n",
    "    times = []\n",
    "    points = []\n",
    "\n",
    "    half_loopLength = loopLength/2.0\n",
    "    double_travRate = 2 * travRate\n",
    "    #gait = Gaits()\n",
    "\n",
    "    # TODO move this\n",
    "    #ms = 0 #0\n",
    "    turnTimeOffset = 0 # probalby don't need this for now except as placeholder\n",
    "    now2 = (ms - turnTimeOffset) % loopLength\n",
    "    now3 = (ms - turnTimeOffset +  half_loopLength) % loopLength\n",
    "    now4 = loopLength - (ms - turnTimeOffset) % loopLength\n",
    "    now1 = loopLength - (ms - turnTimeOffset + half_loopLength) % loopLength\n",
    "\n",
    "    gait.initTrig()\n",
    "    gait.walk_code(loopLength, half_loopLength, travRate, 2*travRate,\n",
    "                  now1, now2, now3, now4, ang_dir)"
   ]
  },
  {
   "cell_type": "code",
   "execution_count": 5,
   "metadata": {},
   "outputs": [],
   "source": [
    "masses = [115, 60, 20] # masses in grams for segments 23, 34, 45 respectively. 55g per AX12 servo\n",
    "body_mass = 2000/2 + sum(masses) # 2kg / 2 + a leg\n",
    "def torque(pts):\n",
    "    torques = []\n",
    "    # on the ground\n",
    "    if abs(pts[-1][1]) > 0.9 * bodyH:\n",
    "        #pt_servo, pt_gnd = pts[0], pts[-1]\n",
    "        #torque = pt_gnd[0] - pt_servo[0]\n",
    "        for pt in pts[2:-2]:\n",
    "            torques.append(body_mass * (pts[-1][0] - pt[0])) # expect mostly positive\n",
    "    # off the ground\n",
    "    else:\n",
    "        # for each servo point of interest\n",
    "        for cnt, pt in enumerate(pts[2:-2]):\n",
    "            # Get the midpoint's distance of each segment multiplied by mass\n",
    "            # For point  \n",
    "            torques.append(0)\n",
    "            for x in range(len(pts[cnt+1:-1])):\n",
    "                midpt = pts[cnt+x][0] - pts[cnt+x+1][0]\n",
    "                dist = pt[0] - midpt # expect mostly negative\n",
    "                mass_dist = dist * 1# masses[cnt]\n",
    "                torques[-1] += mass_dist\n",
    "            #for ptb in pts:\n",
    "            #    pt[0] - ptb\n",
    "            \n",
    "    \n",
    "    #torque = pt_gnd[0] - pt_servo[0]\n",
    "    #pass\n",
    "    return torques"
   ]
  },
  {
   "cell_type": "code",
   "execution_count": 6,
   "metadata": {},
   "outputs": [],
   "source": [
    "def mkpts():# calculate the points I want to plot: aka the servo joints\n",
    "    pt1 = array([L0, 0])\n",
    "    pt2 = pt1 + array([L12,0])\n",
    "    pt3 = pt2 + gait.v23 # we do this negative in the code, too\n",
    "    pt4 = pt3 + [gait.v34[0], -gait.v34[1]]\n",
    "    pt5 = pt4 + [0, -L45] #[10,0]#\n",
    "    pt0 = pt1 - [0, bodyH]\n",
    "\n",
    "    pts = array([pt0, pt1, pt2, pt3, pt4, pt5])\n",
    "    \n",
    "    #sides = []\n",
    "    #sides.append(array([])\n",
    "    return pts#, sides"
   ]
  },
  {
   "cell_type": "code",
   "execution_count": 7,
   "metadata": {},
   "outputs": [
    {
     "name": "stdout",
     "output_type": "stream",
     "text": [
      "True\n"
     ]
    },
    {
     "data": {
      "image/png": "[encoded data removed]",
      "text/plain": [
       "<matplotlib.figure.Figure at 0x7fdcbd3f5be0>"
      ]
     },
     "metadata": {},
     "output_type": "display_data"
    }
   ],
   "source": [
    "#gait = Gaits(L0, L12, L23, L34, L45, bodyH)\n",
    "leg_geom, leg1, leg2, leg3, leg4 = gen_numa1_legs()\n",
    "gait = Gaits(leg_geom, leg1, leg2, leg3, leg4, bodyH)\n",
    "plt.figure()\n",
    "ax1 = plt.subplot(1,1,1)\n",
    "torques = []\n",
    "foot_height = []\n",
    "foot_trav = []\n",
    "intersections = []\n",
    "#foot_trav0 = L0\n",
    "for x in range(0,10000,800):\n",
    "    snapshot(gait, x, 10000)\n",
    "    pts  = mkpts()\n",
    "    xvals, yvals = np.transpose(pts[:])\n",
    "    ax1.set_aspect('equal', 'datalim')\n",
    "    ax1.plot(xvals, yvals)\n",
    "    \n",
    "    # calc torques and leg heights\n",
    "    torques.append(torque(pts))\n",
    "    foot_height.append(yvals[5] + bodyH)\n",
    "    foot_trav.append(xvals[5] - 2*legLen)\n",
    "    \n",
    "    # gen and plot servo sides\n",
    "    #sidepts = gen_sides(pts, sides=[side23,side34])\n",
    "    #for ptset in sidepts[:]:\n",
    "    #    xvals, yvals = np.transpose(ptset[:])\n",
    "    #    ax1.plot(xvals, yvals)\n",
    "torques = np.transpose(array(torques[:]))\n",
    "print(True)"
   ]
  },
  {
   "cell_type": "code",
   "execution_count": 8,
   "metadata": {},
   "outputs": [
    {
     "data": {
      "text/plain": [
       "<matplotlib.legend.Legend at 0x7fdcbb287c18>"
      ]
     },
     "execution_count": 8,
     "metadata": {},
     "output_type": "execute_result"
    },
    {
     "data": {
      "image/png": "[encoded data removed]",
      "text/plain": [
       "<matplotlib.figure.Figure at 0x7fdcbb34ccc0>"
      ]
     },
     "metadata": {},
     "output_type": "display_data"
    }
   ],
   "source": [
    "plt.figure()\n",
    "ax2 = plt.subplot(2,1,1)\n",
    "ax2.axhline(y=0, color='k')\n",
    "ax2.set_ylabel(\"torque\")\n",
    "\n",
    "ax3 = plt.subplot(2,1,2)\n",
    "ax3.set_ylabel(\"mm\")\n",
    "#print(torques)\n",
    "\n",
    "for dataset in torques:#[2]:\n",
    "    ax2.plot(dataset, marker=\".\")\n",
    "ax3.plot(foot_height, label=\"foot height\", marker=\".\")\n",
    "ax3.plot(foot_trav, label=\"foot travel\", marker=\".\")\n",
    "ax3.legend()"
   ]
  },
  {
   "cell_type": "code",
   "execution_count": 9,
   "metadata": {},
   "outputs": [
    {
     "data": {
      "image/png": "[encoded data removed]",
      "text/plain": [
       "<matplotlib.figure.Figure at 0x7fdcbb2dbb38>"
      ]
     },
     "metadata": {},
     "output_type": "display_data"
    }
   ],
   "source": [
    "# Looking at a single set of points for debugging\n",
    "plt.figure()\n",
    "ax1 = plt.subplot(1,1,1)\n",
    "#snapshot(gait, x, 10000)\n",
    "pts  = mkpts()\n",
    "xvals, yvals = np.transpose(pts[:])\n",
    "ax1.set_aspect('equal', 'datalim')\n",
    "ax1.plot(xvals, yvals)\n",
    "\n",
    "# gen and plot servo sides\n",
    "sidepts = gen_sides(pts, sides=[side23, side34])\n",
    "for ptset in sidepts[:]:\n",
    "    xvals, yvals = np.transpose(ptset[:])\n",
    "    ax1.plot(xvals, yvals)"
   ]
  },
  {
   "cell_type": "code",
   "execution_count": null,
   "metadata": {},
   "outputs": [],
   "source": []
  },
  {
   "cell_type": "code",
   "execution_count": null,
   "metadata": {},
   "outputs": [],
   "source": []
  }
 ],
 "metadata": {
  "kernelspec": {
   "display_name": "Python 3",
   "language": "python",
   "name": "python3"
  },
  "language_info": {
   "codemirror_mode": {
    "name": "ipython",
    "version": 3
   },
   "file_extension": ".py",
   "mimetype": "text/x-python",
   "name": "python",
   "nbconvert_exporter": "python",
   "pygments_lexer": "ipython3",
   "version": "3.4.3"
  }
 },
 "nbformat": 4,
 "nbformat_minor": 2
}
