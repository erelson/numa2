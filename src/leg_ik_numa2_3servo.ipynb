{
 "cells": [
  {
   "cell_type": "code",
   "execution_count": 1,
   "metadata": {},
   "outputs": [],
   "source": [
    "from matplotlib import pyplot as plt"
   ]
  },
  {
   "cell_type": "code",
   "execution_count": 2,
   "metadata": {},
   "outputs": [],
   "source": [
    "from numpy import array\n",
    "from numpy.linalg import norm\n",
    "from math import pi, cos, sin, atan2, copysign\n",
    "import numpy as np\n",
    "from time import sleep\n",
    "\n",
    "#from IK import L0, L12, L23, L34, L45, bodyH\n",
    "from design_helpers import gen_sides, torque, snapshot\n",
    "from poses import LegGeom, LegDef\n",
    "from IK import ALL_FEET_DOWN_TIME_FRAC, TRANSITION_FRAC, FH_FRAC, FH, Gaits\n",
    "# L0 is the dynamic length of the leg? from pivot to ground contact?\n",
    "from intersections import intersectLines\n",
    "\n",
    "# Numa V2\n",
    "L0=135; L12=58; L23=65; L34=130; L45=5;\n",
    "bodyH=83\n",
    "\n",
    "#legLen = 1.00*L0\n",
    "legLen = 90\n",
    "\n",
    "masses = [115, 20, 0] # masses in grams for segments 23, 34, 45 respectively. 55g per AX12 servo\n",
    "body_mass = 2000/2 + sum(masses) # 2kg / 2 + a leg\n",
    "\n",
    "def gen_numa2_legs():\n",
    "# 4\\ __^__ /3\n",
    "#   |     | \n",
    "#   |numa2| \n",
    "#   |_____| \n",
    "# 1/       \\2\n",
    "    stance = 0\n",
    "    offsets_dict = {\n",
    "            \"aoffset1\": 45.0,\n",
    "            \"aoffset2\": -31.54, #-31.54,\n",
    "            \"aoffset3\": 6.22, #-31.54,\n",
    "            \"a1stance\": stance,\n",
    "            \"a1stance_rear\": stance,\n",
    "            \"L0\": 135, # mm - pretty close to actual...\n",
    "            \"L12\": 58,\n",
    "            \"L23\": 65,\n",
    "            \"L34\": 130,\n",
    "            \"L45\": 5,  # This is fake right?\n",
    "            #\n",
    "            \"joint2sign\": -1,\n",
    "            \"joint3sign\": 1,\n",
    "            }\n",
    "    leg_model = LegGeom(offsets_dict)\n",
    "\n",
    "    # leg_geom, s1_sign, s2_sign, s3_sign, s4_sign=None, front_leg=True):\n",
    "    leg1 = LegDef(leg_model, offsets_dict,  1, -1,  1)\n",
    "    leg2 = LegDef(leg_model, offsets_dict, -1,  1, -1)\n",
    "    leg3 = LegDef(leg_model, offsets_dict,  1, -1,  1, front_leg=True)\n",
    "    leg4 = LegDef(leg_model, offsets_dict, -1,  1, -1, front_leg=True)\n",
    "\n",
    "    return leg_model, leg1, leg2, leg3, leg4"
   ]
  },
  {
   "cell_type": "code",
   "execution_count": 3,
   "metadata": {},
   "outputs": [],
   "source": [
    "# sides are the leg edge we worry about colliding.\n",
    "# These are two points as vectors from the base of a leg segment\n",
    "# Numa V2\n",
    "side23 = [[24.77, -35.15],[24.77+17.78, -6.17]]\n",
    "side34 = [[24.95, -9.01],[24.95+35.81, -16.09]]\n",
    "   "
   ]
  },
  {
   "cell_type": "markdown",
   "metadata": {},
   "source": [
    "Now what am I doing?"
   ]
  },
  {
   "cell_type": "code",
   "execution_count": 4,
   "metadata": {
    "scrolled": true
   },
   "outputs": [],
   "source": [
    "def snapshot(gait, ms, loopLength=10000, ang_dir=0.0):\n",
    "    \"\"\"Get leg position at a single time within the loop length\"\"\"\n",
    "    \n",
    "    travRate = 25 # distance in mm that feet travel in a straight line back and forth\n",
    "    times = []\n",
    "    points = []\n",
    "\n",
    "    half_loopLength = loopLength/2.0\n",
    "    double_travRate = 2 * travRate\n",
    "    #gait = Gaits()\n",
    "\n",
    "    # TODO move this\n",
    "    #ms = 0 #0\n",
    "    turnTimeOffset = 0 # probalby don't need this for now except as placeholder\n",
    "    now2 = (ms - turnTimeOffset) % loopLength\n",
    "    now3 = (ms - turnTimeOffset +  half_loopLength) % loopLength\n",
    "    now4 = loopLength - (ms - turnTimeOffset) % loopLength\n",
    "    now1 = loopLength - (ms - turnTimeOffset + half_loopLength) % loopLength\n",
    "\n",
    "    gait.initTrig()\n",
    "    gait.walk_code(loopLength, half_loopLength, travRate, 2*travRate,\n",
    "                  now1, now2, now3, now4, ang_dir)"
   ]
  },
  {
   "cell_type": "code",
   "execution_count": 5,
   "metadata": {},
   "outputs": [],
   "source": [
    "def mkpts():# calculate the points I want to plot: aka the servo joints\n",
    "    pt1 = array([L0, 0])\n",
    "    pt2 = pt1 + array([L12,0])\n",
    "    pt3 = pt2 + gait.v23 # we do this negative in the code, too\n",
    "    pt4 = pt3 + [gait.v34[0], gait.v34[1]]\n",
    "    pt5 = pt4 + [0, -L45] #[10,0]#\n",
    "    pt0 = pt1 - [0, bodyH]\n",
    "\n",
    "    pts = array([pt0, pt1, pt2, pt3, pt4, pt5])\n",
    "    \n",
    "    #sides = []\n",
    "    #sides.append(array([])\n",
    "    return pts#, sides"
   ]
  },
  {
   "cell_type": "code",
   "execution_count": 6,
   "metadata": {},
   "outputs": [
    {
     "ename": "UnboundLocalError",
     "evalue": "local variable 'hnow2' referenced before assignment",
     "output_type": "error",
     "traceback": [
      "\u001b[0;31m---------------------------------------------------------------------------\u001b[0m",
      "\u001b[0;31mUnboundLocalError\u001b[0m                         Traceback (most recent call last)",
      "\u001b[0;32m<ipython-input-6-65eebb7ec866>\u001b[0m in \u001b[0;36m<module>\u001b[0;34m()\u001b[0m\n\u001b[1;32m     10\u001b[0m \u001b[0;32mfor\u001b[0m \u001b[0mx\u001b[0m \u001b[0;32min\u001b[0m \u001b[0mrange\u001b[0m\u001b[0;34m(\u001b[0m\u001b[0;36m0\u001b[0m\u001b[0;34m,\u001b[0m\u001b[0;36m10000\u001b[0m\u001b[0;34m,\u001b[0m\u001b[0;36m120\u001b[0m\u001b[0;34m)\u001b[0m\u001b[0;34m:\u001b[0m\u001b[0;34m\u001b[0m\u001b[0m\n\u001b[1;32m     11\u001b[0m     \u001b[0;31m#continue\u001b[0m\u001b[0;34m\u001b[0m\u001b[0;34m\u001b[0m\u001b[0m\n\u001b[0;32m---> 12\u001b[0;31m     \u001b[0msnapshot\u001b[0m\u001b[0;34m(\u001b[0m\u001b[0mgait\u001b[0m\u001b[0;34m,\u001b[0m \u001b[0mx\u001b[0m\u001b[0;34m,\u001b[0m \u001b[0;36m10000\u001b[0m\u001b[0;34m)\u001b[0m\u001b[0;34m\u001b[0m\u001b[0m\n\u001b[0m\u001b[1;32m     13\u001b[0m     \u001b[0mpts\u001b[0m  \u001b[0;34m=\u001b[0m \u001b[0mmkpts\u001b[0m\u001b[0;34m(\u001b[0m\u001b[0;34m)\u001b[0m\u001b[0;34m\u001b[0m\u001b[0m\n\u001b[1;32m     14\u001b[0m     \u001b[0mxvals\u001b[0m\u001b[0;34m,\u001b[0m \u001b[0myvals\u001b[0m \u001b[0;34m=\u001b[0m \u001b[0mnp\u001b[0m\u001b[0;34m.\u001b[0m\u001b[0mtranspose\u001b[0m\u001b[0;34m(\u001b[0m\u001b[0mpts\u001b[0m\u001b[0;34m[\u001b[0m\u001b[0;34m:\u001b[0m\u001b[0;34m]\u001b[0m\u001b[0;34m)\u001b[0m\u001b[0;34m\u001b[0m\u001b[0m\n",
      "\u001b[0;32m<ipython-input-4-159f3c889baf>\u001b[0m in \u001b[0;36msnapshot\u001b[0;34m(gait, ms, loopLength, ang_dir)\u001b[0m\n\u001b[1;32m     20\u001b[0m     \u001b[0mgait\u001b[0m\u001b[0;34m.\u001b[0m\u001b[0minitTrig\u001b[0m\u001b[0;34m(\u001b[0m\u001b[0;34m)\u001b[0m\u001b[0;34m\u001b[0m\u001b[0m\n\u001b[1;32m     21\u001b[0m     gait.walk_code(loopLength, half_loopLength, travRate, 2*travRate,\n\u001b[0;32m---> 22\u001b[0;31m                   now1, now2, now3, now4, ang_dir)\n\u001b[0m",
      "\u001b[0;32m~/numa2/src/IK.py\u001b[0m in \u001b[0;36mwalk_code\u001b[0;34m(self, loopLength, half_loopLength, travRate, double_travRate, now1, now2, now3, now4, ang_dir)\u001b[0m\n\u001b[1;32m    252\u001b[0m         \u001b[0;31m# represent offset of foot position in walking direction from standing point of foot.\u001b[0m\u001b[0;34m\u001b[0m\u001b[0;34m\u001b[0m\u001b[0m\n\u001b[1;32m    253\u001b[0m         \u001b[0;31m# travN is vector length in walking direction to offset default foot position by\u001b[0m\u001b[0;34m\u001b[0m\u001b[0;34m\u001b[0m\u001b[0m\n\u001b[0;32m--> 254\u001b[0;31m         \u001b[0mself\u001b[0m\u001b[0;34m.\u001b[0m\u001b[0mtrav2\u001b[0m \u001b[0;34m=\u001b[0m \u001b[0;34m(\u001b[0m \u001b[0mdouble_travRate\u001b[0m \u001b[0;34m*\u001b[0m \u001b[0;34m(\u001b[0m\u001b[0mhnow2\u001b[0m \u001b[0;34m/\u001b[0m \u001b[0mhalf_loopLength\u001b[0m\u001b[0;34m)\u001b[0m \u001b[0;34m)\u001b[0m \u001b[0;34m-\u001b[0m \u001b[0mtravRate\u001b[0m\u001b[0;34m\u001b[0m\u001b[0m\n\u001b[0m\u001b[1;32m    255\u001b[0m         \u001b[0mself\u001b[0m\u001b[0;34m.\u001b[0m\u001b[0mtrav3\u001b[0m \u001b[0;34m=\u001b[0m \u001b[0;34m(\u001b[0m \u001b[0mdouble_travRate\u001b[0m \u001b[0;34m*\u001b[0m \u001b[0;34m(\u001b[0m\u001b[0mhnow3\u001b[0m \u001b[0;34m/\u001b[0m \u001b[0mhalf_loopLength\u001b[0m\u001b[0;34m)\u001b[0m \u001b[0;34m)\u001b[0m \u001b[0;34m-\u001b[0m \u001b[0mtravRate\u001b[0m\u001b[0;34m\u001b[0m\u001b[0m\n\u001b[1;32m    256\u001b[0m         \u001b[0mself\u001b[0m\u001b[0;34m.\u001b[0m\u001b[0mtrav4\u001b[0m \u001b[0;34m=\u001b[0m \u001b[0;34m(\u001b[0m \u001b[0mdouble_travRate\u001b[0m \u001b[0;34m*\u001b[0m \u001b[0;34m(\u001b[0m\u001b[0mhnow4\u001b[0m \u001b[0;34m/\u001b[0m \u001b[0mhalf_loopLength\u001b[0m\u001b[0;34m)\u001b[0m \u001b[0;34m)\u001b[0m \u001b[0;34m-\u001b[0m \u001b[0mtravRate\u001b[0m\u001b[0;34m\u001b[0m\u001b[0m\n",
      "\u001b[0;31mUnboundLocalError\u001b[0m: local variable 'hnow2' referenced before assignment"
     ]
    },
    {
     "data": {
      "image/png": "[encoded data removed]",
      "text/plain": [
       "<matplotlib.figure.Figure at 0x7f8ba80f5588>"
      ]
     },
     "metadata": {},
     "output_type": "display_data"
    }
   ],
   "source": [
    "leg_geom, leg1, leg2, leg3, leg4 = gen_numa2_legs()\n",
    "gait = Gaits(leg_geom, leg1, leg2, leg3, leg4, bodyH)\n",
    "plt.figure()\n",
    "ax1 = plt.subplot(1,1,1)\n",
    "torques = []\n",
    "foot_height = []\n",
    "foot_trav = []\n",
    "intersections = []\n",
    "#foot_trav0 = L0\n",
    "for x in range(0,10000,120):\n",
    "    #continue\n",
    "    snapshot(gait, x, 10000)\n",
    "    pts  = mkpts()\n",
    "    xvals, yvals = np.transpose(pts[:])\n",
    "    ax1.set_aspect('equal', 'datalim')\n",
    "    ax1.plot(xvals, yvals)\n",
    "    \n",
    "    # calc torques and leg heights\n",
    "    torques.append(torque(pts, bodyH, masses=masses))\n",
    "    foot_height.append(yvals[5] + bodyH)\n",
    "    foot_trav.append(xvals[5] - 2*legLen)\n",
    "    \n",
    "    # gen and plot servo sides\n",
    "    sidepts = gen_sides(pts, sides=[side23,side34])\n",
    "    for ptset in sidepts[:]:\n",
    "        xvals, yvals = np.transpose(ptset[:])\n",
    "        ax1.plot(xvals, yvals)\n",
    "    #intersections.append(intersectLines(*[v for pt in sidepts for v in pt][:4]))\n",
    "torques = np.transpose(array(torques[:]))\n"
   ]
  },
  {
   "cell_type": "code",
   "execution_count": null,
   "metadata": {},
   "outputs": [],
   "source": [
    "plt.figure()\n",
    "ax2 = plt.subplot(2,1,1)\n",
    "ax2.axhline(y=0, color='k')\n",
    "ax2.set_ylabel(\"torque\")\n",
    "\n",
    "ax3 = plt.subplot(1,1,1)\n",
    "ax3.set_ylabel(\"mm\")\n",
    "#print(torques)\n",
    "\n",
    "joint_names = {0: \"shoulder\", 1: \"elbow\"}\n",
    "for cnt, dataset in enumerate(torques):#[2]:\n",
    "    #continue\n",
    "    #ax2.plot(dataset, label=joint_names[cnt], marker=\".\")\n",
    "    pass\n",
    "ax3.plot(foot_height, label=\"foot height\", marker=\".\")\n",
    "ax3.plot(foot_trav, label=\"foot travel\", marker=\".\")\n",
    "#ax2.legend()\n",
    "ax3.legend()"
   ]
  },
  {
   "cell_type": "code",
   "execution_count": null,
   "metadata": {},
   "outputs": [],
   "source": [
    "[x[2] for x in intersections]"
   ]
  },
  {
   "cell_type": "code",
   "execution_count": null,
   "metadata": {
    "scrolled": true
   },
   "outputs": [],
   "source": [
    "# Looking at a single set of points for debugging\n",
    "plt.figure()\n",
    "ax1 = plt.subplot(1,1,1)\n",
    "#snapshot(gait, x, 10000)\n",
    "pts = mkpts()\n",
    "xvals, yvals = np.transpose(pts[:])\n",
    "ax1.set_aspect('equal', 'datalim')\n",
    "ax1.plot(xvals, yvals)\n",
    "\n",
    "# gen and plot servo sides\n",
    "sidepts = gen_sides(pts, sides=[side23, side34])\n",
    "for ptset in sidepts[:]:\n",
    "    xvals, yvals = np.transpose(ptset[:])\n",
    "    ax1.plot(xvals, yvals)"
   ]
  }
 ],
 "metadata": {
  "kernelspec": {
   "display_name": "Python 3",
   "language": "python",
   "name": "python3"
  },
  "language_info": {
   "codemirror_mode": {
    "name": "ipython",
    "version": 3
   },
   "file_extension": ".py",
   "mimetype": "text/x-python",
   "name": "python",
   "nbconvert_exporter": "python",
   "pygments_lexer": "ipython3",
   "version": "3.4.3"
  }
 },
 "nbformat": 4,
 "nbformat_minor": 2
}
